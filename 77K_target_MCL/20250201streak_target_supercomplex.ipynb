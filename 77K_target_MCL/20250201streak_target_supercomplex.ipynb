{
 "cells": [
  {
   "cell_type": "markdown",
   "metadata": {},
   "source": [
    "# Simultaneous global and target analysis of the timeresolved fluorescence of the megacomplex at 77K"
   ]
  },
  {
   "cell_type": "markdown",
   "metadata": {},
   "source": [
    "### Defining datasets and inspect data"
   ]
  },
  {
   "cell_type": "code",
   "execution_count": null,
   "metadata": {},
   "outputs": [],
   "source": [
    "from __future__ import annotations\n",
    "\n",
    "from glotaran.io import load_parameters, save_result\n",
    "from glotaran.optimization.optimize import optimize\n",
    "from glotaran.project.scheme import Scheme\n",
    "from pyglotaran_extras.inspect import show_a_matrixes\n",
    "from pyglotaran_extras import (\n",
    "    plot_overview,\n",
    "    plot_data_overview,\n",
    "    plot_fitted_traces,\n",
    "    select_plot_wavelengths,\n",
    ")"
   ]
  },
  {
   "cell_type": "markdown",
   "metadata": {},
   "source": [
    "The code below defined the (groups of) datasets used in the analysis. Only for a single dataset the plot_data_overview is shown to avoid repetition, it is left as an exercise to the reader to inspect the other data."
   ]
  },
  {
   "cell_type": "code",
   "execution_count": null,
   "metadata": {},
   "outputs": [],
   "source": [
    "DATA_PATH1 = \"data/supercomplex_targeta.ascii\"\n",
    "DATA_PATH2 = \"data/supercomplex_targetb.ascii\"\n",
    "\n",
    "plot_data_overview(\n",
    "    DATA_PATH1,\n",
    "    nr_of_data_svd_vectors=4,\n",
    "    irf_location=470,\n",
    "    title=\"MCL at 77K exc 610 nm\",\n",
    "    # vmax=60\n",
    ");"
   ]
  },
  {
   "cell_type": "markdown",
   "metadata": {},
   "source": [
    "# Create target scheme and optimize it"
   ]
  },
  {
   "cell_type": "code",
   "execution_count": null,
   "metadata": {},
   "outputs": [],
   "source": [
    "target_scheme = Scheme(\n",
    "    model=\"models/20241110streak_target_77K_supercomplex.yml\",  \n",
    "    parameters=\"models/20241120streak_target_77K_supercomplex.csv\",\n",
    "    maximum_number_function_evaluations=11,\n",
    "    clp_link_tolerance=0.1,\n",
    "    data={\n",
    "        \"super1ns\": DATA_PATH1,\n",
    "        \"super2ns\": DATA_PATH2,\n",
    "    },  # type: ignore\n",
    ")\n",
    "target_scheme.validate()"
   ]
  },
  {
   "cell_type": "code",
   "execution_count": null,
   "metadata": {},
   "outputs": [],
   "source": [
    "# warning: this can take a minute or two, even on a fast machine\n",
    "target_result1 = optimize(target_scheme, raise_exception=True)"
   ]
  },
  {
   "cell_type": "markdown",
   "metadata": {},
   "source": [
    "For reference, the final Cost should be\n",
    "- 11         1.7094e+05\n"
   ]
  },
  {
   "cell_type": "code",
   "execution_count": null,
   "metadata": {},
   "outputs": [],
   "source": [
    "target_result1"
   ]
  },
  {
   "cell_type": "markdown",
   "metadata": {},
   "source": [
    "## Plot result for interpretation\n"
   ]
  },
  {
   "cell_type": "code",
   "execution_count": null,
   "metadata": {},
   "outputs": [],
   "source": [
    "import matplotlib.pyplot as plt\n",
    "from cycler import cycler\n",
    "from pyglotaran_extras.plotting.plot_concentrations import plot_concentrations\n",
    "from pyglotaran_extras.plotting.plot_spectra import plot_sas,plot_norm_sas\n",
    "from pyglotaran_extras.plotting.plot_spectra import plot_das\n",
    "from pyglotaran_extras.plotting.style import ColorCode\n",
    "# ColorCode.green,\"k\",\n",
    "myFRLcolors = [ \"b\",\"k\", \"r\",ColorCode.magenta,ColorCode.indigo,ColorCode.green,\"g\",ColorCode.turquoise,ColorCode.grey]\n",
    "# myFRLcolors2 = [ \"g\",\"tab:orange\",  \"r\", \"k\",ColorCode.magenta,ColorCode.purple, \"w\", \"w\",\"w\",\"w\",\"y\",ColorCode.maroon]\n",
    "myFRLcolors2 = [ ColorCode.cyan,\"g\",\"tab:orange\",  \"r\", \"k\",ColorCode.magenta,ColorCode.indigo, ColorCode.brown, \"w\",\"w\",\"w\",\"y\",ColorCode.maroon]\n",
    "res=target_result1.data[\"super1ns\"]\n",
    "fig, axes = plt.subplots(1, 3, figsize=(15, 4))\n",
    "custom_cycler2 = cycler(color=myFRLcolors, linestyle=[\"--\"] * 9)\n",
    "custom_cycler = cycler(color=myFRLcolors)\n",
    "plot_concentrations(target_result1.data[\"super1ns\"], axes[0], center_λ=0, linlog=True, linthresh=100, cycler=custom_cycler)\n",
    "# plot_concentrations(target_result1.data[\"super2ns\"], axes[0], center_λ=0, linlog=True, linthresh=100, cycler=custom_cycler2)\n",
    "plot_concentrations(target_result1.data[\"super2ns\"], axes[0], center_λ=0, linlog=True, linthresh=100, cycler=custom_cycler,linetype=\"--\")\n",
    "# plot_concentrations(target_result1.data[\"WLtr2\"], axes[0], center_λ=0, linlog=True, linthresh=100, cycler=custom_cycler)\n",
    "# custom_cycler2 = cycler(color=myFRLcolors2)\n",
    "# plot_concentrations(target_result1.data[\"FRLtr2\"], axes[0], center_λ=0, linlog=True, linthresh=100, cycler=custom_cycler2)\n",
    "# plot_concentrations(target_result1.data[\"FRLtr4\"], axes[0], center_λ=0, linlog=True, linthresh=100, cycler=custom_cycler2)\n",
    "# plot_sas(target_result1.data[\"FRLtr4\"], axes[1], cycler=custom_cycler2)\n",
    "plot_sas(target_result1.data[\"super1ns\"], axes[1], cycler=custom_cycler)\n",
    "selPS=[\"PSI1\",\"PSI2\",\"PSI3\",\"PSII1\",\"PSII2\",\"PSII3\"]\n",
    "myFRLcolorsPS = [ \"r\",ColorCode.magenta,ColorCode.indigo,ColorCode.green,\"g\",ColorCode.turquoise,ColorCode.grey]\n",
    "custom_cyclerPS = cycler(color=myFRLcolorsPS)\n",
    "plot_norm_sas(target_result1.data[\"super1ns\"], axes[2], cycler=custom_cyclerPS,selected_species=selPS)\n",
    "# plot_das(target_result1.data[\"super1ns\"], axes[2], cycler=custom_cycler)\n",
    "axes[0].set_xlabel(\"Time (ps)\")\n",
    "axes[0].set_ylabel(\"\")\n",
    "axes[0].axhline(0, color=\"k\", linewidth=1)\n",
    "axes[1].set_xlabel(\"Wavelength (nm)\")\n",
    "axes[2].set_xlabel(\"Wavelength (nm)\")\n",
    "axes[1].set_ylabel(\"\")\n",
    "axes[2].set_ylabel(\"\")\n",
    "axes[1].set_title(\"SAS\")\n",
    "axes[1].axhline(0, color=\"k\", linewidth=1)\n",
    "axes[0].annotate(\"A\", xy=(-0.05, 1.02), xycoords=\"axes fraction\", fontsize=16)\n",
    "axes[1].annotate(\"B\", xy=(-0.05, 1.02), xycoords=\"axes fraction\", fontsize=16)\n",
    "axes[2].annotate(\"C\", xy=(-0.05, 1.02), xycoords=\"axes fraction\", fontsize=16)"
   ]
  },
  {
   "cell_type": "markdown",
   "metadata": {},
   "source": [
    "## Create the WL guidance data sets"
   ]
  },
  {
   "cell_type": "code",
   "execution_count": null,
   "metadata": {},
   "outputs": [],
   "source": [
    "from glotaran.io import load_dataset, load_model, load_parameters\n",
    "from glotaran.io import save_dataset,load_dataset\n",
    "from glotaran.utils.io import create_clp_guide_dataset\n",
    "\n",
    "for species in target_result1.data[\"super1ns\"].species:\n",
    "    clp_guide = create_clp_guide_dataset(target_result1.data[\"super1ns\"], species.item())\n",
    "    string_in_string = \"guide/20241120megacomplex77K_{}.ascii\".format(species.item())\n",
    "    save_dataset(clp_guide.data, string_in_string,allow_overwrite=True)"
   ]
  },
  {
   "cell_type": "code",
   "execution_count": null,
   "metadata": {},
   "outputs": [],
   "source": [
    "datasetPSI1 = load_dataset(\n",
    "    \"guide/20241120megacomplex77K_PSI1.ascii\"\n",
    ")\n",
    "datasetPSII1 = load_dataset(\n",
    "    \"guide/20241120megacomplex77K_PSII1.ascii\"\n",
    ")"
   ]
  },
  {
   "cell_type": "code",
   "execution_count": null,
   "metadata": {},
   "outputs": [],
   "source": [
    "spectral_model = load_model(\"models/spectral_model.yml\")\n",
    "spectral_parameters = load_parameters(\"models/spectral_params.yml\")\n",
    "spectral_model.validate(parameters=spectral_parameters)\n",
    "\n",
    "spectral_scheme = Scheme(\n",
    "    spectral_model,\n",
    "    spectral_parameters,\n",
    "    data={\"dataset\": datasetPSI1},\n",
    "    maximum_number_function_evaluations=25,\n",
    ")\n",
    "spectral_result = optimize(spectral_scheme)\n",
    "spectral_result.optimized_parameters"
   ]
  },
  {
   "cell_type": "code",
   "execution_count": null,
   "metadata": {},
   "outputs": [],
   "source": [
    "spectral_result"
   ]
  },
  {
   "cell_type": "code",
   "execution_count": null,
   "metadata": {},
   "outputs": [],
   "source": [
    "from pyglotaran_extras.plotting.plot_overview import plot_overview\n",
    "\n",
    "fig, axes = plot_overview(spectral_result.data[\"dataset\"], linlog=False)"
   ]
  },
  {
   "cell_type": "code",
   "execution_count": null,
   "metadata": {},
   "outputs": [],
   "source": [
    "from glotaran.io import save_dataset\n",
    "\n",
    "save_dataset(\n",
    "    spectral_result.data[\"dataset\"].fitted_data,\n",
    "    \"guide/20241120megacomplex77K_PSI1_fitted.ascii\",\n",
    "    allow_overwrite=True,\n",
    ")"
   ]
  },
  {
   "cell_type": "code",
   "execution_count": null,
   "metadata": {},
   "outputs": [],
   "source": [
    "spectral_model = load_model(\"models/spectral_model2.yml\")\n",
    "spectral_parameters = load_parameters(\"models/spectral_params2.yml\")\n",
    "spectral_model.validate(parameters=spectral_parameters)\n",
    "\n",
    "spectral_scheme = Scheme(\n",
    "    spectral_model,\n",
    "    spectral_parameters,\n",
    "    data={\"dataset\": datasetPSII1},\n",
    "    maximum_number_function_evaluations=25,\n",
    ")\n",
    "spectral_result = optimize(spectral_scheme)\n",
    "spectral_result.optimized_parameters"
   ]
  },
  {
   "cell_type": "code",
   "execution_count": null,
   "metadata": {},
   "outputs": [],
   "source": [
    "spectral_result"
   ]
  },
  {
   "cell_type": "code",
   "execution_count": null,
   "metadata": {},
   "outputs": [],
   "source": [
    "from pyglotaran_extras.plotting.plot_overview import plot_overview\n",
    "\n",
    "fig, axes = plot_overview(spectral_result.data[\"dataset\"], linlog=False)"
   ]
  },
  {
   "cell_type": "code",
   "execution_count": null,
   "metadata": {},
   "outputs": [],
   "source": [
    "from glotaran.io import save_dataset\n",
    "\n",
    "save_dataset(\n",
    "    spectral_result.data[\"dataset\"].fitted_data,\n",
    "    \"guide/20241120megacomplex77K_PSII1_fitted.ascii\",\n",
    "    allow_overwrite=True,\n",
    ")"
   ]
  },
  {
   "cell_type": "code",
   "execution_count": null,
   "metadata": {},
   "outputs": [],
   "source": [
    "spectral_result.optimized_parameters"
   ]
  },
  {
   "cell_type": "markdown",
   "metadata": {},
   "source": [
    "# refined target"
   ]
  },
  {
   "cell_type": "code",
   "execution_count": null,
   "metadata": {},
   "outputs": [],
   "source": [
    "DATA_PATHPSII1=\"guide/20241120megacomplex77K_PSII1_fitted.ascii\"\n",
    "DATA_PATHPSI1=\"guide/20241120megacomplex77K_PSI1_fitted.ascii\"\n",
    "target_scheme = Scheme(\n",
    "    model=\"models/20250201streak_target_77K_supercomplex.yml\",  # type: ignore\n",
    "    parameters=\"models/20241120streak_target_77K_supercomplex.csv\",\n",
    "    maximum_number_function_evaluations=11,\n",
    "    clp_link_tolerance=0.1,\n",
    "    data={\n",
    "        \"super1ns\": DATA_PATH1,\n",
    "        \"super2ns\": DATA_PATH2,\n",
    "        \"dataPSI1\": DATA_PATHPSI1,\n",
    "        \"dataPSII1\": DATA_PATHPSII1,\n",
    "    },  # type: ignore\n",
    ")\n",
    "target_scheme.validate()"
   ]
  },
  {
   "cell_type": "code",
   "execution_count": null,
   "metadata": {},
   "outputs": [],
   "source": [
    "# warning: this can take a minute or two, even on a fast machine\n",
    "target_result1 = optimize(target_scheme, raise_exception=True)"
   ]
  },
  {
   "cell_type": "markdown",
   "metadata": {},
   "source": [
    "For reference, the final Cost should be\n",
    "- 11         1.7109e+05\n"
   ]
  },
  {
   "cell_type": "code",
   "execution_count": null,
   "metadata": {},
   "outputs": [],
   "source": [
    "target_result1"
   ]
  },
  {
   "cell_type": "markdown",
   "metadata": {},
   "source": [
    "# Fig.5 Plot result for interpretation\n"
   ]
  },
  {
   "cell_type": "code",
   "execution_count": null,
   "metadata": {},
   "outputs": [],
   "source": [
    "import matplotlib.pyplot as plt\n",
    "from cycler import cycler\n",
    "from pyglotaran_extras.plotting.plot_concentrations import plot_concentrations\n",
    "from pyglotaran_extras.plotting.plot_spectra import plot_sas,plot_norm_sas\n",
    "from pyglotaran_extras.plotting.plot_spectra import plot_das\n",
    "from pyglotaran_extras.plotting.style import ColorCode\n",
    "# ColorCode.green,\"k\",\n",
    "myFRLcolors = [ \"b\",\"k\", \"r\",ColorCode.magenta,ColorCode.indigo,ColorCode.green,\"g\",ColorCode.turquoise,ColorCode.grey]\n",
    "# myFRLcolors2 = [ \"g\",\"tab:orange\",  \"r\", \"k\",ColorCode.magenta,ColorCode.purple, \"w\", \"w\",\"w\",\"w\",\"y\",ColorCode.maroon]\n",
    "myFRLcolors2 = [ ColorCode.cyan,\"g\",\"tab:orange\",  \"r\", \"k\",ColorCode.magenta,ColorCode.indigo, ColorCode.brown, \"w\",\"w\",\"w\",\"y\",ColorCode.maroon]\n",
    "res=target_result1.data[\"super1ns\"]\n",
    "fig, axes = plt.subplots(1, 3, figsize=(15, 4))\n",
    "custom_cycler2 = cycler(color=myFRLcolors, linestyle=[\"--\"] * 9)\n",
    "custom_cycler = cycler(color=myFRLcolors)\n",
    "plot_concentrations(target_result1.data[\"super1ns\"], axes[0], center_λ=0, linlog=True, linthresh=100, cycler=custom_cycler)\n",
    "# plot_concentrations(target_result1.data[\"super2ns\"], axes[0], center_λ=0, linlog=True, linthresh=100, cycler=custom_cycler2)\n",
    "plot_concentrations(target_result1.data[\"super2ns\"], axes[0], center_λ=0, linlog=True, linthresh=100, cycler=custom_cycler,linetype=\"--\")\n",
    "# plot_concentrations(target_result1.data[\"WLtr2\"], axes[0], center_λ=0, linlog=True, linthresh=100, cycler=custom_cycler)\n",
    "# custom_cycler2 = cycler(color=myFRLcolors2)\n",
    "# plot_concentrations(target_result1.data[\"FRLtr2\"], axes[0], center_λ=0, linlog=True, linthresh=100, cycler=custom_cycler2)\n",
    "# plot_concentrations(target_result1.data[\"FRLtr4\"], axes[0], center_λ=0, linlog=True, linthresh=100, cycler=custom_cycler2)\n",
    "# plot_sas(target_result1.data[\"FRLtr4\"], axes[1], cycler=custom_cycler2)\n",
    "plot_sas(target_result1.data[\"super1ns\"], axes[1], cycler=custom_cycler)\n",
    "selPS=[\"PSI1\",\"PSI2\",\"PSI3\",\"PSII1\",\"PSII2\",\"PSII3\"]\n",
    "myFRLcolorsPS = [ \"r\",ColorCode.magenta,ColorCode.indigo,ColorCode.green,\"g\",ColorCode.turquoise,ColorCode.grey]\n",
    "custom_cyclerPS = cycler(color=myFRLcolorsPS)\n",
    "plot_norm_sas(target_result1.data[\"super1ns\"], axes[2], cycler=custom_cyclerPS,selected_species=selPS)\n",
    "# plot_das(target_result1.data[\"super1ns\"], axes[2], cycler=custom_cycler)\n",
    "axes[0].set_xlabel(\"Time (ps)\")\n",
    "axes[0].set_ylabel(\"\")\n",
    "axes[0].axhline(0, color=\"k\", linewidth=1)\n",
    "axes[1].set_xlabel(\"Wavelength (nm)\")\n",
    "axes[2].set_xlabel(\"Wavelength (nm)\")\n",
    "axes[1].set_ylabel(\"\")\n",
    "axes[2].set_ylabel(\"\")\n",
    "axes[1].set_title(\"SAS\")\n",
    "axes[1].axhline(0, color=\"k\", linewidth=1)\n",
    "axes[0].annotate(\"A\", xy=(-0.05, 1.02), xycoords=\"axes fraction\", fontsize=16)\n",
    "axes[1].annotate(\"B\", xy=(-0.05, 1.02), xycoords=\"axes fraction\", fontsize=16)\n",
    "axes[2].annotate(\"C\", xy=(-0.05, 1.02), xycoords=\"axes fraction\", fontsize=16)"
   ]
  },
  {
   "cell_type": "code",
   "execution_count": null,
   "metadata": {},
   "outputs": [],
   "source": [
    "res.lifetime_supercomplex1"
   ]
  },
  {
   "cell_type": "markdown",
   "metadata": {},
   "source": [
    "## Print the estimates of the optimized parameters and their precision \n",
    "The t-values of the **free** parameters (Vary=True) indicate the precision"
   ]
  },
  {
   "cell_type": "code",
   "execution_count": null,
   "metadata": {},
   "outputs": [],
   "source": [
    "target_result1.optimized_parameters"
   ]
  },
  {
   "cell_type": "markdown",
   "metadata": {},
   "source": [
    "## Fit quality of the target analysis of the WL data\n",
    "overlays of traces and fits, first of 16 wavelengths, then of 6 selected wavelengths"
   ]
  },
  {
   "cell_type": "code",
   "execution_count": null,
   "metadata": {},
   "outputs": [],
   "source": [
    "target_result_streak = (\n",
    "    # target_result.data[\"FRLtr1\"],\n",
    "    # target_result1.data[\"super1ns\"],\n",
    "    target_result1,\n",
    "    # target_result.data[\"FRLtr2\"],\n",
    "    # target_result.data[\"WLtr2\"],\n",
    "    # # target_result.data[\"FRLtr4\"],\n",
    "    # target_result.data[\"super1ns\"],\n",
    ")"
   ]
  },
  {
   "cell_type": "code",
   "execution_count": null,
   "metadata": {},
   "outputs": [],
   "source": [
    "import numpy as np\n",
    "# wavelengths = select_plot_wavelengths(\n",
    "#     target_result_streak, equidistant_wavelengths=True\n",
    "# )\n",
    "wavelengths =np.linspace(645, 750, num=16)\n",
    "plot_fitted_traces(target_result1, wavelengths, linlog=True, linthresh=1000);"
   ]
  },
  {
   "cell_type": "markdown",
   "metadata": {},
   "source": [
    "# overview 1 ns"
   ]
  },
  {
   "cell_type": "code",
   "execution_count": null,
   "metadata": {},
   "outputs": [],
   "source": [
    "fig, axes = plot_overview(target_result1.data[\"super1ns\"], linlog=True, linthresh=100)\n"
   ]
  },
  {
   "cell_type": "code",
   "execution_count": null,
   "metadata": {},
   "outputs": [],
   "source": [
    "fig, axes = plot_overview(target_result1.data[\"super2ns\"], linlog=True, linthresh=100)\n"
   ]
  },
  {
   "cell_type": "code",
   "execution_count": null,
   "metadata": {},
   "outputs": [],
   "source": [
    "# save_result(\n",
    "#     result=target_result1,\n",
    "#     result_path=\"resultssupercomplex/result.yaml\",\n",
    "#     allow_overwrite=True,\n",
    "# )"
   ]
  },
  {
   "cell_type": "markdown",
   "metadata": {},
   "source": []
  },
  {
   "cell_type": "markdown",
   "metadata": {},
   "source": [
    "# Fig.S4 selected traces & fits"
   ]
  },
  {
   "cell_type": "code",
   "execution_count": null,
   "metadata": {},
   "outputs": [],
   "source": [
    "import warnings\n",
    "from pyglotaran_extras.plotting.style import ColorCode as cc\n",
    "\n",
    "with warnings.catch_warnings():\n",
    "    warnings.simplefilter(\"ignore\")\n",
    "    fig, ax_ = plot_fitted_traces(\n",
    "        target_result1,\n",
    "        [685,705,715,725,740,750],\n",
    "        linlog=True,\n",
    "        linthresh=1000,\n",
    "        axes_shape=(3, 2),\n",
    "        figsize=(8,6),\n",
    "        title=\"\",\n",
    "        per_axis_legend=True,\n",
    "        cycler=cycler(\n",
    "            color=[\n",
    "                cc.grey,\n",
    "                cc.black,\n",
    "                cc.orange,\n",
    "                cc.red,\n",
    "                cc.cyan,\n",
    "                cc.blue,\n",
    "            ]\n",
    "        ),\n",
    "    )\n",
    "    handles, labels = ax_.flatten()[0].get_legend_handles_labels()\n",
    "    for i in range(len(handles)):\n",
    "        if i == 1:\n",
    "            labels[i] = \"1 ns\"\n",
    "        elif i == 3:\n",
    "            labels[i] = \"2 ns\"\n",
    "        elif i == 5:\n",
    "            labels[i] = \"TR4\"\n",
    "        else:\n",
    "            labels[i] = \"_Hidden\"\n",
    "    for idx, ax in enumerate(ax_.flatten()):\n",
    "        ax.set_ylabel(ax.title.get_text().replace(\"spectral = \", \"\"))\n",
    "        if idx > 3:\n",
    "            ax.set_xlabel(\"Time (ps)\")\n",
    "        else:\n",
    "            ax.set_xlabel(\"\")\n",
    "        ax.set_title(\"\")\n",
    "        if ax.get_legend() is not None:\n",
    "            ax.get_legend().remove()\n",
    "        for line in ax.lines:\n",
    "            # line.set_linewidth(0.5)  # Set the line width here\n",
    "            line.set_linewidth(1)  # Set the line width here\n",
    "    fig.legend(\n",
    "        handles,\n",
    "        labels,\n",
    "        bbox_to_anchor=(0.5, -0.05),\n",
    "        loc=\"lower center\",\n",
    "        ncol=len(handles),\n",
    "    )\n",
    "    fig.tight_layout()"
   ]
  },
  {
   "cell_type": "markdown",
   "metadata": {},
   "source": [
    "### Compute the FWHM of the main Gaussian of the IRF"
   ]
  },
  {
   "cell_type": "code",
   "execution_count": null,
   "metadata": {},
   "outputs": [],
   "source": [
    "import numpy as np\n",
    "const=2*np.sqrt(2*np.log(2))\n",
    "[\n",
    "const*target_result1.optimized_parameters.get(\"super1nsirf.width1\").value,\n",
    "const*target_result1.optimized_parameters.get(\"super1nsirf.width2\").value,\n",
    "const*target_result1.optimized_parameters.get(\"super1nsirf.scale2\").value,\n",
    "const*target_result1.optimized_parameters.get(\"super2nsirf.width1\").value,\n",
    "const*target_result1.optimized_parameters.get(\"super2nsirf.width2\").value,\n",
    "const*target_result1.optimized_parameters.get(\"super2nsirf.scale2\").value,\n",
    "]"
   ]
  }
 ],
 "metadata": {
  "kernelspec": {
   "display_name": "pyglotaran_310_pip",
   "language": "python",
   "name": "python3"
  },
  "language_info": {
   "codemirror_mode": {
    "name": "ipython",
    "version": 3
   },
   "file_extension": ".py",
   "mimetype": "text/x-python",
   "name": "python",
   "nbconvert_exporter": "python",
   "pygments_lexer": "ipython3",
   "version": "3.10.6"
  }
 },
 "nbformat": 4,
 "nbformat_minor": 4
}
