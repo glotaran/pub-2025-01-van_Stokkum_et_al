{
 "cells": [
  {
   "cell_type": "markdown",
   "metadata": {},
   "source": [
    "# Simultaneous global and target analysis of the timeresolved fluorescence of PBS at RT and 77K"
   ]
  },
  {
   "cell_type": "markdown",
   "metadata": {},
   "source": [
    "### Defining datasets and inspect data"
   ]
  },
  {
   "cell_type": "code",
   "execution_count": null,
   "metadata": {},
   "outputs": [],
   "source": [
    "from __future__ import annotations\n",
    "\n",
    "from glotaran.io import load_parameters, save_result\n",
    "from glotaran.optimization.optimize import optimize\n",
    "from glotaran.project.scheme import Scheme\n",
    "from pyglotaran_extras.inspect import show_a_matrixes\n",
    "from pyglotaran_extras import (\n",
    "    plot_overview,\n",
    "    plot_data_overview,\n",
    "    plot_fitted_traces,\n",
    "    select_plot_wavelengths,\n",
    ")"
   ]
  },
  {
   "cell_type": "markdown",
   "metadata": {},
   "source": [
    "The code below defined the (groups of) datasets used in the analysis. Only for a single dataset the plot_data_overview is shown to avoid repetition, it is left as an execirse to the reader to inspect the other data."
   ]
  },
  {
   "cell_type": "code",
   "execution_count": null,
   "metadata": {},
   "outputs": [],
   "source": [
    "# order a exc 610 nm and b exc 410 nm\n",
    "DGDATA_PATH1 = \"data/DG_whole_cells_dark_adapted_targeta.ascii\"\n",
    "DGDATA_PATH2 = \"data/DG_whole_cells_dark_adapted_targetb.ascii\"\n",
    "DGDATA_PATH3 = \"data/DG_whole_cells_after_red_light_targeta.ascii\"\n",
    "DGDATA_PATH4 = \"data/DG_whole_cells_after_red_light_targetb.ascii\"\n",
    "DATA_PATH1 = \"data/WT_whole_cells_dark_adapted_targeta.ascii\"\n",
    "DATA_PATH2 = \"data/WT_whole_cells_dark_adapted_targetb.ascii\"\n",
    "DATA_PATH3 = \"data/WT_whole_cells_after_red_light_targeta.ascii\"\n",
    "DATA_PATH4 = \"data/WT_whole_cells_after_red_light_targetb.ascii\"\n",
    "\n",
    "plot_data_overview(\n",
    "    DATA_PATH3,\n",
    "    nr_of_data_svd_vectors=4,\n",
    "    linlog=True,\n",
    "    linthresh=1000,\n",
    "    irf_location=470,\n",
    "    title=\"DA at 77K exc 610 nm\",\n",
    ");"
   ]
  },
  {
   "cell_type": "code",
   "execution_count": null,
   "metadata": {},
   "outputs": [],
   "source": [
    "DATA_PATH650 = \"data/guide/20240730DG_WT_PBS_77Kstreak_target_PC650e.ascii\"\n",
    "DATA_PATH660 = \"data/guide/20240730DG_WT_PBS_77Kstreak_target_APC660e.ascii\"\n",
    "DATA_PATH680 = \"data/guide/20240730DG_WT_PBS_77Kstreak_target_APC680.ascii\"\n",
    "DATA_PATHPSII1= \"data/guide/20241111PSI__streak_targetWT_APC680shift4nm.ascii\"\n",
    "DATA_PATHPSII2= \"data/guide/20241113streak_WT_target_DA_FRL_PSII2.ascii\"\n",
    "DATA_PATHPSI3= \"data/guide/20240720PSend_77Kstreak_target_PSIend.ascii\"\n",
    "DATA_PATHPSII3= \"data/guide/20240720PSend_77Kstreak_target_PSIIend.ascii\"\n",
    "plot_data_overview(\n",
    "    DATA_PATHPSII2,\n",
    "    nr_of_data_svd_vectors=4,\n",
    "    linlog=True,\n",
    "    linthresh=1000,\n",
    "    irf_location=470,\n",
    "    title=\"APC660\"\n",
    ");\n"
   ]
  },
  {
   "cell_type": "markdown",
   "metadata": {},
   "source": [
    "# Step 1 Create scheme and optimize it"
   ]
  },
  {
   "cell_type": "code",
   "execution_count": null,
   "metadata": {},
   "outputs": [],
   "source": [
    "target_scheme = Scheme(\n",
    "    model=\"models/20250415streak_DG_WT_target_DA_FRL_PSIIdifferent.yml\",  # type: ignore\n",
    "    parameters=\"models/20250415streak_DG_WT_target_DA_FRL_PSIIdifferent.csv\",\n",
    "    maximum_number_function_evaluations=1,\n",
    "    clp_link_tolerance=2.1,\n",
    "    data={\n",
    "        \"DA610\": DATA_PATH1,\n",
    "        \"DA410\": DATA_PATH2,\n",
    "        \"FRL610\": DATA_PATH3,\n",
    "        \"FRL410\": DATA_PATH4,\n",
    "        \"data650\": DATA_PATH650,\n",
    "        \"data660\": DATA_PATH660,\n",
    "        \"data680\": DATA_PATH680,\n",
    "        \"dataPSII1\": DATA_PATHPSII1,\n",
    "        \"dataPSII2\": DATA_PATHPSII2,\n",
    "        \"dataPSII3\": DATA_PATHPSII3,\n",
    "        \"DA610DG\": DGDATA_PATH1,\n",
    "        \"DA410DG\": DGDATA_PATH2,\n",
    "        \"FRL610DG\": DGDATA_PATH3,\n",
    "        \"FRL410DG\": DGDATA_PATH4,\n",
    "        \"data650DG\": DATA_PATH650,\n",
    "        \"data660DG\": DATA_PATH660,\n",
    "        \"data680DG\": DATA_PATH680,\n",
    "        \"dataPSII1DG\": DATA_PATHPSII1,\n",
    "        \"dataPSII2DG\": DATA_PATHPSII2,\n",
    "        \"dataPSII3DG\": DATA_PATHPSII3,\n",
    "        \"dataPSI3\": DATA_PATHPSI3,\n",
    "        \"dataPSI3DG\": DATA_PATHPSI3,\n",
    "    },  # type: ignore\n",
    ")\n",
    "target_scheme.validate()"
   ]
  },
  {
   "cell_type": "code",
   "execution_count": null,
   "metadata": {},
   "outputs": [],
   "source": [
    "# warning: this can take a minute or two, even on a fast machine\n",
    "target_result1 = optimize(target_scheme, raise_exception=True)"
   ]
  },
  {
   "cell_type": "markdown",
   "metadata": {},
   "source": [
    "For reference, the final Cost should be\n",
    "-  1         5.1245e+05\n"
   ]
  },
  {
   "cell_type": "code",
   "execution_count": null,
   "metadata": {},
   "outputs": [],
   "source": [
    "target_result1"
   ]
  },
  {
   "cell_type": "code",
   "execution_count": null,
   "metadata": {},
   "outputs": [],
   "source": [
    "# save_result(\n",
    "#     result=target_result1,\n",
    "#     result_path=\"DGtarget_resultsDA_FRL/result.yaml\",\n",
    "#     allow_overwrite=True,\n",
    "# )"
   ]
  },
  {
   "cell_type": "code",
   "execution_count": null,
   "metadata": {},
   "outputs": [],
   "source": [
    "target_result1.data[\"DA610\"].lifetime_slowcomplexDA610"
   ]
  },
  {
   "cell_type": "markdown",
   "metadata": {},
   "source": [
    "# Fig.7 Plot result for interpretation\n"
   ]
  },
  {
   "cell_type": "code",
   "execution_count": null,
   "metadata": {},
   "outputs": [],
   "source": [
    "import matplotlib.pyplot as plt\n",
    "from cycler import cycler\n",
    "from pyglotaran_extras.plotting.plot_concentrations import plot_concentrations\n",
    "from pyglotaran_extras.plotting.plot_spectra import plot_sas,plot_norm_sas\n",
    "from pyglotaran_extras.plotting.plot_spectra import plot_das\n",
    "from pyglotaran_extras.plotting.style import ColorCode\n",
    "from pyglotaran_extras.plotting.style import PlotStyle\n",
    "myFRLcolors = [\n",
    "    \"r\",\n",
    "    \"r\",\n",
    "    \"r\",\n",
    "    \"k\",\n",
    "    \"b\",\n",
    "    \"b\",\n",
    "    \"b\",\n",
    "    ColorCode.green,\n",
    "    \"g\",\n",
    "    ColorCode.turquoise,\n",
    "    \"tab:orange\",\n",
    "    ColorCode.magenta,\n",
    "    ColorCode.indigo,\n",
    "]\n",
    "res=target_result1.data[\"FRL610\"]\n",
    "fig, axes = plt.subplots(1, 3, figsize=(15, 4))\n",
    "custom_cycler2 = cycler(color=myFRLcolors, linestyle=[\"--\"] * 13)\n",
    "custom_cycler3 = cycler(color=myFRLcolors, linestyle=[\":\"] * 13)\n",
    "custom_cycler4 = cycler(color=myFRLcolors, linestyle=[\"-.\"] * 13)\n",
    "custom_cycler = cycler(color=myFRLcolors)\n",
    "plot_concentrations(target_result1.data[\"FRL610\"], axes[0], center_λ=0, linlog=True, linthresh=1000, cycler=custom_cycler3,linetype=\":\")\n",
    "plot_concentrations(target_result1.data[\"DA610\"], axes[0], center_λ=0, linlog=True, linthresh=1000, cycler=custom_cycler)\n",
    "plot_sas(target_result1.data[\"DA610\"], axes[1], cycler=custom_cycler)\n",
    "plot_norm_sas(target_result1.data[\"DA610\"], axes[2], cycler=custom_cycler)\n",
    "axes[0].set_xlabel(\"Time (ps)\")\n",
    "axes[0].set_xlim(-1500,5500)\n",
    "axes[0].set_ylabel(\"\")\n",
    "axes[0].axhline(0, color=\"k\", linewidth=1)\n",
    "axes[1].set_xlabel(\"Wavelength (nm)\")\n",
    "axes[2].set_xlabel(\"Wavelength (nm)\")\n",
    "axes[1].set_ylabel(\"\")\n",
    "axes[2].set_ylabel(\"\")\n",
    "axes[1].set_title(\"SAS\")\n",
    "axes[1].axhline(0, color=\"k\", linewidth=1)\n",
    "axes[0].annotate(\"A\", xy=(-0.05, 1.02), xycoords=\"axes fraction\", fontsize=16)\n",
    "axes[1].annotate(\"B\", xy=(-0.05, 1.02), xycoords=\"axes fraction\", fontsize=16)\n",
    "axes[2].annotate(\"C\", xy=(-0.05, 1.02), xycoords=\"axes fraction\", fontsize=16)"
   ]
  },
  {
   "cell_type": "markdown",
   "metadata": {},
   "source": [
    "# Fig.S21 A-C result WT"
   ]
  },
  {
   "cell_type": "code",
   "execution_count": null,
   "metadata": {},
   "outputs": [],
   "source": [
    "import matplotlib.pyplot as plt\n",
    "from cycler import cycler\n",
    "from pyglotaran_extras.plotting.plot_concentrations import plot_concentrations\n",
    "from pyglotaran_extras.plotting.plot_spectra import plot_sas,plot_norm_sas\n",
    "from pyglotaran_extras.plotting.plot_spectra import plot_das\n",
    "from pyglotaran_extras.plotting.style import ColorCode\n",
    "from pyglotaran_extras.plotting.style import PlotStyle\n",
    "res=target_result1.data[\"FRL610\"]\n",
    "fig, axes = plt.subplots(1, 3, figsize=(15, 4))\n",
    "custom_cycler2 = cycler(color=myFRLcolors, linestyle=[\"--\"] * 13)\n",
    "custom_cycler3 = cycler(color=myFRLcolors, linestyle=[\":\"] * 13)\n",
    "custom_cycler4 = cycler(color=myFRLcolors, linestyle=[\"-.\"] * 13)\n",
    "custom_cycler = cycler(color=myFRLcolors)\n",
    "plot_concentrations(target_result1.data[\"DA410\"], axes[0], center_λ=0, linlog=True, linthresh=1000, cycler=custom_cycler2,linetype=\"--\")\n",
    "plot_concentrations(target_result1.data[\"FRL610\"], axes[0], center_λ=0, linlog=True, linthresh=1000, cycler=custom_cycler3,linetype=\":\")\n",
    "plot_concentrations(target_result1.data[\"FRL410\"], axes[0], center_λ=0, linlog=True, linthresh=1000, cycler=custom_cycler4,linetype=\"-.\")\n",
    "plot_concentrations(target_result1.data[\"DA610\"], axes[0], center_λ=0, linlog=True, linthresh=1000, cycler=custom_cycler)\n",
    "plot_sas(target_result1.data[\"DA610\"], axes[1], cycler=custom_cycler)\n",
    "plot_sas(target_result1.data[\"DA410\"], axes[1], cycler=custom_cycler2)\n",
    "plot_sas(target_result1.data[\"FRL610\"], axes[1], cycler=custom_cycler3)\n",
    "plot_sas(target_result1.data[\"FRL410\"], axes[1], cycler=custom_cycler4)\n",
    "plot_norm_sas(target_result1.data[\"DA610\"], axes[2], cycler=custom_cycler)\n",
    "plot_norm_sas(target_result1.data[\"DA410\"], axes[2], cycler=custom_cycler2)\n",
    "plot_norm_sas(target_result1.data[\"FRL610\"], axes[2], cycler=custom_cycler3)\n",
    "plot_norm_sas(target_result1.data[\"FRL410\"], axes[2], cycler=custom_cycler4)\n",
    "axes[0].set_xlabel(\"Time (ps)\")\n",
    "axes[0].set_xlim(-1500,5500)\n",
    "axes[0].set_ylabel(\"\")\n",
    "axes[0].axhline(0, color=\"k\", linewidth=1)\n",
    "axes[1].set_xlabel(\"Wavelength (nm)\")\n",
    "axes[2].set_xlabel(\"Wavelength (nm)\")\n",
    "axes[1].set_ylabel(\"\")\n",
    "axes[2].set_ylabel(\"\")\n",
    "axes[1].set_title(\"SAS\")\n",
    "axes[1].axhline(0, color=\"k\", linewidth=1)\n",
    "axes[0].annotate(\"A\", xy=(-0.05, 1.02), xycoords=\"axes fraction\", fontsize=16)\n",
    "axes[1].annotate(\"B\", xy=(-0.05, 1.02), xycoords=\"axes fraction\", fontsize=16)\n",
    "axes[2].annotate(\"C\", xy=(-0.05, 1.02), xycoords=\"axes fraction\", fontsize=16)"
   ]
  },
  {
   "cell_type": "markdown",
   "metadata": {},
   "source": [
    "# Fig.S21 D-F result DG "
   ]
  },
  {
   "cell_type": "code",
   "execution_count": null,
   "metadata": {},
   "outputs": [],
   "source": [
    "import matplotlib.pyplot as plt\n",
    "from cycler import cycler\n",
    "from pyglotaran_extras.plotting.plot_concentrations import plot_concentrations\n",
    "from pyglotaran_extras.plotting.plot_spectra import plot_sas,plot_norm_sas\n",
    "from pyglotaran_extras.plotting.plot_spectra import plot_das\n",
    "from pyglotaran_extras.plotting.style import ColorCode\n",
    "from pyglotaran_extras.plotting.style import PlotStyle\n",
    "res=target_result1.data[\"FRL610\"]\n",
    "fig, axes = plt.subplots(1, 3, figsize=(15, 4))\n",
    "custom_cycler2 = cycler(color=myFRLcolors, linestyle=[\"--\"] * 13)\n",
    "custom_cycler3 = cycler(color=myFRLcolors, linestyle=[\":\"] * 13)\n",
    "custom_cycler4 = cycler(color=myFRLcolors, linestyle=[\"-.\"] * 13)\n",
    "custom_cycler = cycler(color=myFRLcolors)\n",
    "plot_concentrations(target_result1.data[\"DA410DG\"], axes[0], center_λ=0, linlog=True, linthresh=1000, cycler=custom_cycler2,linetype=\"--\")\n",
    "plot_concentrations(target_result1.data[\"FRL610DG\"], axes[0], center_λ=0, linlog=True, linthresh=1000, cycler=custom_cycler3,linetype=\":\")\n",
    "plot_concentrations(target_result1.data[\"FRL410DG\"], axes[0], center_λ=0, linlog=True, linthresh=1000, cycler=custom_cycler4,linetype=\"-.\")\n",
    "plot_concentrations(target_result1.data[\"DA610DG\"], axes[0], center_λ=0, linlog=True, linthresh=1000, cycler=custom_cycler)\n",
    "plot_sas(target_result1.data[\"DA610DG\"], axes[1], cycler=custom_cycler)\n",
    "plot_sas(target_result1.data[\"DA410DG\"], axes[1], cycler=custom_cycler2)\n",
    "plot_sas(target_result1.data[\"FRL610DG\"], axes[1], cycler=custom_cycler3)\n",
    "plot_sas(target_result1.data[\"FRL410DG\"], axes[1], cycler=custom_cycler4)\n",
    "plot_norm_sas(target_result1.data[\"DA610DG\"], axes[2], cycler=custom_cycler)\n",
    "plot_norm_sas(target_result1.data[\"DA410DG\"], axes[2], cycler=custom_cycler2)\n",
    "plot_norm_sas(target_result1.data[\"FRL610DG\"], axes[2], cycler=custom_cycler3)\n",
    "plot_norm_sas(target_result1.data[\"FRL410DG\"], axes[2], cycler=custom_cycler4)\n",
    "axes[0].set_xlabel(\"Time (ps)\")\n",
    "axes[0].set_xlim(-1500,5500)\n",
    "axes[0].set_ylabel(\"\")\n",
    "axes[0].axhline(0, color=\"k\", linewidth=1)\n",
    "axes[1].set_xlabel(\"Wavelength (nm)\")\n",
    "axes[2].set_xlabel(\"Wavelength (nm)\")\n",
    "axes[1].set_ylabel(\"\")\n",
    "axes[2].set_ylabel(\"\")\n",
    "axes[1].set_title(\"SAS\")\n",
    "axes[1].axhline(0, color=\"k\", linewidth=1)\n",
    "axes[0].annotate(\"D\", xy=(-0.05, 1.02), xycoords=\"axes fraction\", fontsize=16)\n",
    "axes[1].annotate(\"E\", xy=(-0.05, 1.02), xycoords=\"axes fraction\", fontsize=16)\n",
    "axes[2].annotate(\"F\", xy=(-0.05, 1.02), xycoords=\"axes fraction\", fontsize=16)"
   ]
  },
  {
   "cell_type": "markdown",
   "metadata": {},
   "source": [
    "# Guide fits\n"
   ]
  },
  {
   "cell_type": "code",
   "execution_count": null,
   "metadata": {},
   "outputs": [],
   "source": [
    "fig, axes = plt.subplots(2, 6, figsize=(15, 7))\n",
    "target_result1.data[\"data650\"].data.plot(ax=axes[0,0])\n",
    "target_result1.data[\"data650\"].fitted_data.plot(ax=axes[0,0])\n",
    "target_result1.data[\"data660\"].data.plot(ax=axes[0,1])\n",
    "target_result1.data[\"data660\"].fitted_data.plot(ax=axes[0,1])\n",
    "target_result1.data[\"data680\"].data.plot(ax=axes[0,2])\n",
    "target_result1.data[\"data680\"].fitted_data.plot(ax=axes[0,2])\n",
    "target_result1.data[\"dataPSII1\"].data.plot(ax=axes[0,3])\n",
    "target_result1.data[\"dataPSII1\"].fitted_data.plot(ax=axes[0,3])\n",
    "target_result1.data[\"dataPSII2\"].data.plot(ax=axes[0,4])\n",
    "target_result1.data[\"dataPSII2\"].fitted_data.plot(ax=axes[0,4])\n",
    "target_result1.data[\"dataPSII3\"].data.plot(ax=axes[0,5])\n",
    "target_result1.data[\"dataPSII3\"].fitted_data.plot(ax=axes[0,5])\n",
    "axes[0,0].set_xlabel(\"\")\n",
    "axes[0,0].set_ylabel(\"SAS\")\n",
    "axes[0,0].set_title(\"PC650\")\n",
    "axes[0,1].set_xlabel(\"\")\n",
    "axes[0,1].set_ylabel(\"SAS\")\n",
    "axes[0,1].set_title(\"APC660\")\n",
    "axes[0,2].set_xlabel(\"\")\n",
    "axes[0,2].set_ylabel(\"\")\n",
    "axes[0,2].set_title(\"APC680\")\n",
    "axes[0,3].set_xlabel(\"\")\n",
    "axes[0,3].set_ylabel(\"\")\n",
    "axes[0,3].set_title(\"PSII1\")\n",
    "axes[0,4].set_xlabel(\"\")\n",
    "axes[0,4].set_ylabel(\"\")\n",
    "axes[0,4].set_title(\"PSII2\")\n",
    "axes[0,5].set_ylabel(\"\")\n",
    "axes[0,5].set_title(\"PSII3\")\n",
    "target_result1.data[\"data650DG\"].data.plot(ax=axes[1,0])\n",
    "target_result1.data[\"data650DG\"].fitted_data.plot(ax=axes[1,0])\n",
    "target_result1.data[\"data660DG\"].data.plot(ax=axes[1,1])\n",
    "target_result1.data[\"data660DG\"].fitted_data.plot(ax=axes[1,1])\n",
    "target_result1.data[\"data680DG\"].data.plot(ax=axes[1,2])\n",
    "target_result1.data[\"data680DG\"].fitted_data.plot(ax=axes[1,2])\n",
    "target_result1.data[\"dataPSII1DG\"].data.plot(ax=axes[1,3])\n",
    "target_result1.data[\"dataPSII1DG\"].fitted_data.plot(ax=axes[1,3])\n",
    "target_result1.data[\"dataPSII2DG\"].data.plot(ax=axes[1,4])\n",
    "target_result1.data[\"dataPSII2DG\"].fitted_data.plot(ax=axes[1,4])\n",
    "target_result1.data[\"dataPSII3DG\"].data.plot(ax=axes[1,5])\n",
    "target_result1.data[\"dataPSII3DG\"].fitted_data.plot(ax=axes[1,5])\n",
    "axes[1,0].set_xlabel(\"Wavelength (nm)\")\n",
    "axes[1,0].set_ylabel(\"SAS\")\n",
    "axes[1,0].set_title(\"PC650\")\n",
    "axes[1,1].set_xlabel(\"Wavelength (nm)\")\n",
    "axes[1,1].set_ylabel(\"SAS\")\n",
    "axes[1,1].set_title(\"APC660\")\n",
    "axes[1,2].set_xlabel(\"Wavelength (nm)\")\n",
    "axes[1,3].set_xlabel(\"Wavelength (nm)\")\n",
    "axes[1,4].set_xlabel(\"Wavelength (nm)\")\n",
    "axes[1,5].set_xlabel(\"Wavelength (nm)\")\n",
    "axes[1,2].set_ylabel(\"\")\n",
    "axes[1,2].set_title(\"APC680\")\n",
    "axes[1,3].set_ylabel(\"\")\n",
    "axes[1,3].set_title(\"PSII1\")\n",
    "axes[1,4].set_ylabel(\"\")\n",
    "axes[1,4].set_title(\"PSII2\")\n",
    "axes[1,5].set_ylabel(\"\")\n",
    "axes[1,5].set_title(\"PSII3\")"
   ]
  },
  {
   "cell_type": "markdown",
   "metadata": {},
   "source": [
    "# overview FRL610"
   ]
  },
  {
   "cell_type": "code",
   "execution_count": null,
   "metadata": {},
   "outputs": [],
   "source": [
    "das_cycler = cycler(color=PlotStyle().cycler)\n",
    "fig, axes = plot_overview(target_result1.data[\"FRL610\"], linlog=True, linthresh=1000,cycler=custom_cycler,das_cycler=das_cycler,nr_of_residual_svd_vectors=1,svd_cycler=das_cycler)\n"
   ]
  },
  {
   "cell_type": "code",
   "execution_count": null,
   "metadata": {},
   "outputs": [],
   "source": [
    "from custom_plotting import plot_residual_and_svd\n",
    "from custom_plotting import plot_svd_of_residual\n"
   ]
  },
  {
   "cell_type": "markdown",
   "metadata": {},
   "source": [
    "### Residual analysis of all data\n"
   ]
  },
  {
   "cell_type": "markdown",
   "metadata": {},
   "source": [
    "        \"DA610\": DATA_PATH1,\n",
    "        \"DA410\": DATA_PATH2,\n",
    "        \"FRL610\": DATA_PATH3,\n",
    "        \"FRL410\": DATA_PATH4,\n",
    "        \"DA610DG\": DGDATA_PATH1,\n",
    "        \"DA410DG\": DGDATA_PATH2,\n",
    "        \"FRL610DG\": DGDATA_PATH3,\n",
    "        \"FRL410DG\": DGDATA_PATH4,\n"
   ]
  },
  {
   "cell_type": "code",
   "execution_count": null,
   "metadata": {},
   "outputs": [],
   "source": [
    "fig, axes = plot_svd_of_residual(\n",
    "    [\n",
    "        target_result1.data[\"DA610\"],  # order! grey, k, orange, r\n",
    "        target_result1.data[\"DA410\"],\n",
    "        target_result1.data[\"FRL610\"],\n",
    "        target_result1.data[\"FRL410\"],\n",
    "    ],\n",
    "    linlog=True,\n",
    "    linthresh=1000,\n",
    "    index=0,\n",
    ")\n",
    "axes[0].annotate(\"A\", xy=(-0.1, 1), xycoords=\"axes fraction\", fontsize=16)\n",
    "axes[1].annotate(\"B\", xy=(-0.1, 1), xycoords=\"axes fraction\", fontsize=16)"
   ]
  },
  {
   "cell_type": "code",
   "execution_count": null,
   "metadata": {},
   "outputs": [],
   "source": [
    "fig, axes = plot_svd_of_residual(\n",
    "    [\n",
    "        target_result1.data[\"DA610DG\"],  # order! grey, k, orange, r\n",
    "        target_result1.data[\"DA410DG\"],\n",
    "        target_result1.data[\"FRL610DG\"],\n",
    "        target_result1.data[\"FRL410DG\"],\n",
    "    ],\n",
    "    linlog=True,\n",
    "    linthresh=1000,\n",
    "    index=0,\n",
    ")\n",
    "axes[0].annotate(\"A\", xy=(-0.1, 1), xycoords=\"axes fraction\", fontsize=16)\n",
    "axes[1].annotate(\"B\", xy=(-0.1, 1), xycoords=\"axes fraction\", fontsize=16)"
   ]
  },
  {
   "cell_type": "markdown",
   "metadata": {},
   "source": [
    "# Print the estimates of the optimized parameters and their precision \n",
    "The t-values of the **free** parameters (Vary=True) indicate the precision"
   ]
  },
  {
   "cell_type": "code",
   "execution_count": null,
   "metadata": {},
   "outputs": [],
   "source": [
    "target_result1.optimized_parameters"
   ]
  },
  {
   "cell_type": "markdown",
   "metadata": {},
   "source": [
    "## Fit quality of the target analysis of the WL data\n",
    "overlays of traces and fits, first of 16 wavelengths, then of 6 selected wavelengths"
   ]
  },
  {
   "cell_type": "markdown",
   "metadata": {},
   "source": [
    "# Fig.S17 traces with fits WT"
   ]
  },
  {
   "cell_type": "code",
   "execution_count": null,
   "metadata": {},
   "outputs": [],
   "source": [
    "target_result_streak = (\n",
    "    target_result1.data[\"FRL410\"],\n",
    "    target_result1.data[\"FRL610\"],\n",
    "    target_result1.data[\"DA410\"],\n",
    "    target_result1.data[\"DA610\"],\n",
    ")"
   ]
  },
  {
   "cell_type": "code",
   "execution_count": null,
   "metadata": {},
   "outputs": [],
   "source": [
    "import numpy as np\n",
    "wavelengths =np.linspace(665, 740, num=16)\n",
    "wavelengths =np.linspace(645, 740, num=20)\n",
    "wavelengths =(666,690,700, 725)\n",
    "fig, ax_= plot_fitted_traces(target_result_streak, wavelengths, axes_shape=(2,2), figsize=(15,10),linlog=True, per_axis_legend=True,linthresh=1000);\n",
    "handles, labels = ax_.flatten()[0].get_legend_handles_labels()\n",
    "for i in range(len(handles)):\n",
    "    if i == 1:\n",
    "        labels[i] = \"FRL410\"\n",
    "    elif i == 3:\n",
    "        labels[i] = \"FRL610\"\n",
    "    elif i == 5:\n",
    "        labels[i] = \"DA410\"\n",
    "    elif i == 7:\n",
    "        labels[i] = \"DA610\"\n",
    "    else:\n",
    "        labels[i] = \"_Hidden\"\n",
    "for idx, ax in enumerate(ax_.flatten()):\n",
    "    ax_title = ax.get_title()\n",
    "    ax.set_title(rf\"{ax_title.replace('spectral', 'Wavelength')}$\\,$ nm\")\n",
    "    ax.set_ylabel(\"\")\n",
    "    ax.set_yticklabels([])\n",
    "    if idx > 1:\n",
    "        ax.set_xlabel(\"Time (ps)\")\n",
    "    else:\n",
    "        ax.set_xlabel(\"\")\n",
    "    if ax.get_legend() is not None:\n",
    "        ax.get_legend().remove()\n",
    "    for line in ax.lines:\n",
    "        line.set_linewidth(1)  # Set the line width here\n",
    "labels[1]='State I 410 nm exc'\n",
    "labels[3]='State I 610 nm exc'\n",
    "labels[5]='State II 410 nm exc'\n",
    "labels[7]='State II 610 nm exc'\n",
    "fig.legend(\n",
    "    handles,\n",
    "    labels,\n",
    "    bbox_to_anchor=(0.5, -0.05),\n",
    "    loc=\"lower center\",\n",
    "    ncol=len(handles),fontsize=18,\n",
    ")\n",
    "fig.tight_layout()"
   ]
  },
  {
   "cell_type": "code",
   "execution_count": null,
   "metadata": {},
   "outputs": [],
   "source": [
    "labels"
   ]
  },
  {
   "cell_type": "code",
   "execution_count": null,
   "metadata": {},
   "outputs": [],
   "source": [
    "import numpy as np\n",
    "wavelengths =np.linspace(665, 740, num=16)\n",
    "wavelengths =np.linspace(645, 740, num=20)\n",
    "fig, ax_= plot_fitted_traces(target_result_streak, wavelengths, axes_shape=(4,5), linlog=True, per_axis_legend=True,linthresh=1000);\n",
    "handles, labels = ax_.flatten()[0].get_legend_handles_labels()\n",
    "for i in range(len(handles)):\n",
    "    if i == 1:\n",
    "        labels[i] = \"FRL410\"\n",
    "    elif i == 3:\n",
    "        labels[i] = \"FRL610\"\n",
    "    elif i == 5:\n",
    "        labels[i] = \"DA410\"\n",
    "    elif i == 7:\n",
    "        labels[i] = \"DA610\"\n",
    "    else:\n",
    "        labels[i] = \"_Hidden\"\n",
    "for idx, ax in enumerate(ax_.flatten()):\n",
    "    ax.set_ylabel(ax.title.get_text().replace(\"spectral = \", \"\"))\n",
    "    if idx > 14:\n",
    "        ax.set_xlabel(\"Time (ps)\")\n",
    "    else:\n",
    "        ax.set_xlabel(\"\")\n",
    "    ax.set_title(\"\")\n",
    "    if ax.get_legend() is not None:\n",
    "        ax.get_legend().remove()\n",
    "    for line in ax.lines:\n",
    "        line.set_linewidth(1)  # Set the line width here\n",
    "fig.legend(\n",
    "    handles,\n",
    "    labels,\n",
    "    bbox_to_anchor=(0.5, -0.05),\n",
    "    loc=\"lower center\",\n",
    "    ncol=len(handles),fontsize=24,\n",
    ")\n",
    "fig.tight_layout()"
   ]
  },
  {
   "cell_type": "markdown",
   "metadata": {},
   "source": [
    "# Fig.S18 traces with fits DG"
   ]
  },
  {
   "cell_type": "code",
   "execution_count": null,
   "metadata": {},
   "outputs": [],
   "source": [
    "target_result_streakDG = (\n",
    "    target_result1.data[\"FRL410DG\"],\n",
    "    target_result1.data[\"FRL610DG\"],\n",
    "    target_result1.data[\"DA410DG\"],\n",
    "    target_result1.data[\"DA610DG\"],\n",
    ")"
   ]
  },
  {
   "cell_type": "code",
   "execution_count": null,
   "metadata": {},
   "outputs": [],
   "source": [
    "import numpy as np\n",
    "wavelengths =np.linspace(665, 740, num=16)\n",
    "wavelengths =np.linspace(645, 740, num=20)\n",
    "fig, ax_= plot_fitted_traces(target_result_streakDG, wavelengths, axes_shape=(4,5), linlog=True, per_axis_legend=True,linthresh=1000);\n",
    "handles, labels = ax_.flatten()[0].get_legend_handles_labels()\n",
    "for i in range(len(handles)):\n",
    "    if i == 1:\n",
    "        labels[i] = \"FRL410\"\n",
    "    elif i == 3:\n",
    "        labels[i] = \"FRL610\"\n",
    "    elif i == 5:\n",
    "        labels[i] = \"DA410\"\n",
    "    elif i == 7:\n",
    "        labels[i] = \"DA610\"\n",
    "    else:\n",
    "        labels[i] = \"_Hidden\"\n",
    "for idx, ax in enumerate(ax_.flatten()):\n",
    "    ax.set_ylabel(ax.title.get_text().replace(\"spectral = \", \"\"))\n",
    "    if idx > 14:\n",
    "        ax.set_xlabel(\"Time (ps)\")\n",
    "    else:\n",
    "        ax.set_xlabel(\"\")\n",
    "    ax.set_title(\"\")\n",
    "    if ax.get_legend() is not None:\n",
    "        ax.get_legend().remove()\n",
    "    for line in ax.lines:\n",
    "        line.set_linewidth(1)  # Set the line width here\n",
    "fig.legend(\n",
    "    handles,\n",
    "    labels,\n",
    "    bbox_to_anchor=(0.5, -0.05),\n",
    "    loc=\"lower center\",\n",
    "    ncol=len(handles),fontsize=24,\n",
    ")\n",
    "fig.tight_layout()"
   ]
  },
  {
   "cell_type": "markdown",
   "metadata": {},
   "source": [
    "# overview FRL610"
   ]
  },
  {
   "cell_type": "markdown",
   "metadata": {},
   "source": [
    "## Compute the FWHM of the main Gaussian of the IRF"
   ]
  },
  {
   "cell_type": "code",
   "execution_count": null,
   "metadata": {},
   "outputs": [],
   "source": [
    "import numpy as np\n",
    "const=2*np.sqrt(2*np.log(2))\n",
    "[const*target_result1.optimized_parameters.get(\"DA410irf.width\").value,\n",
    " const*target_result1.optimized_parameters.get(\"FRL410irf.width\").value,\n",
    " const*target_result1.optimized_parameters.get(\"DA610irf.width\").value,\n",
    " const*target_result1.optimized_parameters.get(\"FRL610irf.width\").value]"
   ]
  },
  {
   "cell_type": "code",
   "execution_count": null,
   "metadata": {},
   "outputs": [],
   "source": [
    "import numpy as np\n",
    "const=2*np.sqrt(2*np.log(2))\n",
    "[const*target_result1.optimized_parameters.get(\"DA410DGirf.width\").value,\n",
    " const*target_result1.optimized_parameters.get(\"FRL410DGirf.width\").value,\n",
    " const*target_result1.optimized_parameters.get(\"DA610DGirf.width\").value,\n",
    " const*target_result1.optimized_parameters.get(\"FRL610DGirf.width\").value]"
   ]
  },
  {
   "cell_type": "code",
   "execution_count": null,
   "metadata": {},
   "outputs": [],
   "source": [
    "fig, axes = plot_overview(target_result1.data[\"FRL610\"], linlog=True, linthresh=1000,cycler=custom_cycler)\n"
   ]
  },
  {
   "cell_type": "code",
   "execution_count": null,
   "metadata": {},
   "outputs": [],
   "source": [
    "fig, axes = plot_overview(target_result1.data[\"FRL410\"], linlog=True, linthresh=1000,cycler=custom_cycler)\n"
   ]
  },
  {
   "cell_type": "code",
   "execution_count": null,
   "metadata": {},
   "outputs": [],
   "source": [
    "fig, axes = plot_overview(target_result1.data[\"DA610\"], linlog=True, linthresh=1000,cycler=custom_cycler)\n"
   ]
  },
  {
   "cell_type": "code",
   "execution_count": null,
   "metadata": {},
   "outputs": [],
   "source": [
    "fig, axes = plot_overview(target_result1.data[\"DA410\"], linlog=True, linthresh=1000,cycler=custom_cycler)\n"
   ]
  }
 ],
 "metadata": {
  "kernelspec": {
   "display_name": "pyglotaran_310_pip",
   "language": "python",
   "name": "python3"
  },
  "language_info": {
   "codemirror_mode": {
    "name": "ipython",
    "version": 3
   },
   "file_extension": ".py",
   "mimetype": "text/x-python",
   "name": "python",
   "nbconvert_exporter": "python",
   "pygments_lexer": "ipython3",
   "version": "3.10.6"
  }
 },
 "nbformat": 4,
 "nbformat_minor": 4
}
